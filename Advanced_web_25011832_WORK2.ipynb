{
  "nbformat": 4,
  "nbformat_minor": 0,
  "metadata": {
    "colab": {
      "provenance": []
    },
    "kernelspec": {
      "name": "python3",
      "display_name": "Python 3"
    },
    "language_info": {
      "name": "python"
    }
  },
  "cells": [
    {
      "cell_type": "code",
      "execution_count": 2,
      "metadata": {
        "colab": {
          "base_uri": "https://localhost:8080/"
        },
        "id": "bW81DLm9Wp6h",
        "outputId": "d3d20d05-f2af-40b3-9995-28eabf43d6c5"
      },
      "outputs": [
        {
          "output_type": "stream",
          "name": "stdout",
          "text": [
            "Apple: 1000 RWF per kg\n",
            "Banana: 500 RWF per kg\n",
            "Mango: 1200 RWF per kg\n",
            "Total cost for 2kg of each fruit: 5400 RWF\n"
          ]
        }
      ],
      "source": [
        "\n",
        "prices = {\"Apple\": 1000, \"Banana\": 500, \"Mango\": 1200}\n",
        "for fruit, price in prices.items():\n",
        "    print(f\"{fruit}: {price} RWF per kg\")\n",
        "total_cost = 0\n",
        "for fruit, price in prices.items():\n",
        "    total_cost += price * 2\n",
        "\n",
        "print(f\"Total cost for 2kg of each fruit: {total_cost} RWF\")"
      ]
    }
  ]
}