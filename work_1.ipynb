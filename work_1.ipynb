{
  "nbformat": 4,
  "nbformat_minor": 0,
  "metadata": {
    "colab": {
      "provenance": []
    },
    "kernelspec": {
      "name": "python3",
      "display_name": "Python 3"
    },
    "language_info": {
      "name": "python"
    }
  },
  "cells": [
    {
      "cell_type": "code",
      "execution_count": null,
      "metadata": {
        "id": "TzrvO2w6M3NO"
      },
      "outputs": [],
      "source": []
    },
    {
      "cell_type": "code",
      "source": [
        "names=[\"Kagetera\" , \"John\" , \"Peter\" , \"Alex\", \"Claude\"]\n",
        "names.append(\"RUGAMBA\")\n",
        "names.append(\"UOK\")\n",
        "names.append(\"Joseph\")\n",
        "names.sort()\n",
        "print(names)"
      ],
      "metadata": {
        "colab": {
          "base_uri": "https://localhost:8080/"
        },
        "id": "zXbOSn3lNhgp",
        "outputId": "628d9019-665f-43aa-b233-4112cee08778"
      },
      "execution_count": null,
      "outputs": [
        {
          "output_type": "stream",
          "name": "stdout",
          "text": [
            "['Alex', 'Claude', 'John', 'Joseph', 'Kagetera', 'Peter', 'RUGAMBA', 'UOK']\n"
          ]
        }
      ]
    }
  ]
}